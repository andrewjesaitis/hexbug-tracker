{
 "metadata": {
  "name": "",
  "signature": "sha256:118e9e12a52b89e84245214c7fff16290449dfe7c5b6774bef82480a77c27b46"
 },
 "nbformat": 3,
 "nbformat_minor": 0,
 "worksheets": [
  {
   "cells": [
    {
     "cell_type": "code",
     "collapsed": false,
     "input": [
      "%matplotlib inline\n",
      "import numpy as np\n",
      "import matplotlib.pyplot as plt\n",
      "from matplotlib.patches import Rectangle\n",
      "import json\n",
      "from math import *\n",
      "from collections import defaultdict\n",
      "import random\n",
      "from copy import deepcopy\n",
      "import warnings"
     ],
     "language": "python",
     "metadata": {},
     "outputs": [],
     "prompt_number": 42
    },
    {
     "cell_type": "code",
     "collapsed": false,
     "input": [
      "class VectorPlot:\n",
      "    \n",
      "    def __init__(self):\n",
      "        self.x_mes = np.array([])\n",
      "        self.y_mes = np.array([])\n",
      "        self.fig = plt.figure()\n",
      "\n",
      "    def make_plot(self):\n",
      "        print len(self.x_mes)\n",
      "        plt.quiver(self.x_mes[:-1], self.y_mes[:-1], self.x_mes[1:]-self.x_mes[:-1], self.y_mes[1:]-self.y_mes[:-1], scale_units='xy', angles='xy', pivot='tail', color='blue', alpha=0.9, scale=1)\n",
      "        plt.show()\n",
      "          \n",
      "    def add(self, pts):\n",
      "        x_values, y_values = zip(*pts)\n",
      "        self.x_mes = np.append(self.x_mes, x_values)\n",
      "        self.y_mes = np.append(self.y_mes, y_values)\n",
      "\n",
      "def plot(pt_arr, begin, end):\n",
      "    vp = VectorPlot()\n",
      "    vp.add(pt_arr[begin:end])\n",
      "    vp.make_plot()"
     ],
     "language": "python",
     "metadata": {},
     "outputs": [],
     "prompt_number": 43
    },
    {
     "cell_type": "code",
     "collapsed": false,
     "input": [
      "def set_layout(plt):\n",
      "    with warnings.catch_warnings():\n",
      "        warnings.simplefilter('ignore')\n",
      "        plt.tight_layout(rect=(0, .13, 1, 1.02))\n",
      "        \n",
      "def plot_actual_vs_prediction(actual_arr, prediction_arr, orig_preceding_arr=[[]], smoothed_preceding_arr=[[]], err_fn=None):\n",
      "    l2_err_arr = []\n",
      "    for idx, (actual, prediction, orig_preceding, smoothed_preceding) in enumerate(zip(actual_arr, prediction_arr, orig_preceding_arr, smoothed_preceding_arr)):\n",
      "        plt.figure()\n",
      "        plt.title(\"Hexbug Locations\", fontsize=18, y=1.1)\n",
      "        ax = plt.gca()\n",
      "        ax.invert_yaxis()\n",
      "        ax.xaxis.tick_top()\n",
      "        bounds = box_bounds()\n",
      "        margin = 20\n",
      "        plt.xlim(bounds['min_x'] - margin, bounds['max_x'] + margin)\n",
      "        plt.ylim(bounds['min_y'] - margin, bounds['max_y'] + margin)\n",
      "        given_handle = ax.scatter(*zip(*orig_preceding), color='black', alpha=.5)\n",
      "        smoothed_handle = ax.scatter(*zip(*smoothed_preceding), color='orange', alpha=.5)\n",
      "        prediction_handle = ax.scatter(*zip(*prediction), color='blue', alpha=.5)\n",
      "        actual_handle = ax.scatter(*zip(*actual), color='green', alpha=.5)\n",
      "\n",
      "        #Just need a dummy element for the legend\n",
      "        extra = Rectangle((0, 0), 0, 0, fc=\"w\", fill=False, edgecolor='none', linewidth=0)\n",
      "        err_str = 'N/A'\n",
      "        if err_fn:\n",
      "            l2_err = err_fn(prediction,actual)\n",
      "            l2_err_arr.append(l2_err)\n",
      "            err_str = str(err_fn(prediction,actual))\n",
      "        plt.legend(\n",
      "            [actual_handle, prediction_handle, given_handle, smoothed_handle, extra],\n",
      "            ['Actual Position', 'Predicted Locations', 'Given points', 'Smoothed points', \"L2 Error: \" + err_str ],\n",
      "            loc='upper center', bbox_to_anchor=(0.5, -0.05), fancybox=True, shadow=True, ncol=3\n",
      "        )\n",
      "        set_layout(plt)\n",
      "        plt.draw()\n",
      "\n",
      "    print \"Average L2: \" + str(sum(l2_err_arr)/len(l2_err_arr))\n",
      "\n",
      "    plt.show()     "
     ],
     "language": "python",
     "metadata": {},
     "outputs": [],
     "prompt_number": 44
    },
    {
     "cell_type": "code",
     "collapsed": false,
     "input": [
      "def plot_measurements(measurements=[]):\n",
      "    plt.title(\"Hexbug Measurements\", fontsize=18, y=1.1)\n",
      "    ax = plt.gca()\n",
      "    ax.invert_yaxis()\n",
      "    ax.xaxis.tick_top()\n",
      "    measurements_handle = ax.scatter(*zip(*measurements), color='red', alpha=.5)\n",
      "    plt.legend([measurements_handle], ['Measurements'], loc='upper center', bbox_to_anchor=(0.5, -0.05),\n",
      "          fancybox=True, shadow=True, ncol=5)\n",
      "    plt.show()"
     ],
     "language": "python",
     "metadata": {},
     "outputs": [],
     "prompt_number": 45
    },
    {
     "cell_type": "code",
     "collapsed": false,
     "input": [
      "def find_intermediate_points(point1, point2, d):\n",
      "    \"\"\"\n",
      "    computes a point between point1 and point2.\n",
      "    the computed point is a distance, d, away from point1\n",
      "    \"\"\"\n",
      "    x1, y1 = point1\n",
      "    x2, y2 = point2\n",
      "\n",
      "    deltaX = (x2 - x1)\n",
      "    deltaY = (y2 - y1)\n",
      "\n",
      "    if (deltaX != 0):\n",
      "        #http://math.stackexchange.com/questions/656500/given-a-point-slope-and-a-distance-along-that-slope-easily-find-a-second-p\n",
      "        m = deltaY / (deltaX * 1.0) # slope\n",
      "        r = sqrt(1 + m**2)\n",
      "        point3 = [ (x1 + d/r) , (y1 + (d * m)/r) ]\n",
      "    else:\n",
      "      # if deltaX = 0 then the line is a vertical line with undefined slope\n",
      "        point3 = [x1, (y1 + d)]\n",
      "\n",
      "    return point3\n",
      "\n",
      "def fill_missing_points(centroid_coord_list):\n",
      "    centroid_coords_with_estimates_list = list(centroid_coord_list)\n",
      "\n",
      "    # iterate through centroid_coord_list and find unknown centroids\n",
      "    i = 0\n",
      "    while i < len(centroid_coord_list):\n",
      "        # count is the number of unknown centroids that appear in succession (one after another)\n",
      "        count = 0\n",
      "        if (centroid_coord_list[i] == [-1,-1]):\n",
      "            count += 1\n",
      "\n",
      "            while(centroid_coord_list[i + count] == [-1,-1]):\n",
      "                count += 1\n",
      "\n",
      "            first_known_coord = centroid_coord_list[i-1]\n",
      "            second_known_coord = centroid_coord_list[i + count]\n",
      "\n",
      "            d = dist(first_known_coord, second_known_coord)\n",
      "            angle = calculate_angle(second_known_coord, first_known_coord)\n",
      "            if abs(angle) > pi/2 or angle == -1*pi/2 :\n",
      "                second_known_coord, first_known_coord = first_known_coord, second_known_coord\n",
      "\n",
      "            for c in range(count):\n",
      "                displacement = (d * (c + 1)) / (count + 1)\n",
      "                centroid_coords_with_estimates_list[i + c] = find_intermediate_points(first_known_coord, second_known_coord, displacement)\n",
      "\n",
      "        i += (count + 1)\n",
      "\n",
      "    return centroid_coords_with_estimates_list\n",
      "\n",
      "def remove_outlier_points(centroid_coord_list):\n",
      "    distance_list = []\n",
      "    prev_pt = centroid_coord_list[0]\n",
      "    for pt in centroid_coord_list:\n",
      "        distance_list.append(dist(prev_pt, pt))\n",
      "        prev_pt = pt\n",
      "    distances = np.array(distance_list)\n",
      "    cutoff_distance = np.percentile(distances, 98)\n",
      "\n",
      "    filtered_arr = filter(lambda x: -1 not in x, centroid_coord_list)\n",
      "    x_arr, y_arr = zip(*filtered_arr)\n",
      "    x_cutoffs = np.percentile(x_arr, [2, 98])\n",
      "    y_cutoffs = np.percentile(y_arr, [2, 98])\n",
      "    print x_cutoffs\n",
      "\n",
      "    #doing an empty slice in python returns a deep copy of the list\n",
      "    cleaned_centroid_coord_list = centroid_coord_list[:]\n",
      "    prev_pt = centroid_coord_list[0]\n",
      "    for idx, pt in enumerate(centroid_coord_list):\n",
      "        if prev_pt == [-1,-1]:\n",
      "            prev_pt = pt\n",
      "            continue\n",
      "        distance = dist(prev_pt, pt)\n",
      "        # set any point more than 1 sd of the distance away from it's neighbor to (-1,-1)\n",
      "        # set any point in the highest and lowest 2 percentiles to (-1,-1)\n",
      "        if distance > cutoff_distance or pt[0] < x_cutoffs[0] or pt[0] > x_cutoffs[1] or pt[1] < y_cutoffs[0] or pt[1] > y_cutoffs[1]:\n",
      "            cleaned_centroid_coord_list[idx] = [-1,-1]\n",
      "        prev_pt = cleaned_centroid_coord_list[idx]\n",
      "    return cleaned_centroid_coord_list"
     ],
     "language": "python",
     "metadata": {},
     "outputs": [],
     "prompt_number": 46
    },
    {
     "cell_type": "code",
     "collapsed": false,
     "input": [
      "def dist(pt1, pt2):\n",
      "    x1, y1 = pt1\n",
      "    x2, y2 = pt2\n",
      "    return sqrt((x2 - x1) ** 2 + (y2 - y1) ** 2)\n",
      "\n",
      "def angle_trunc(a):\n",
      "    \"\"\"This maps all angles to a domain of [-pi, pi]\"\"\"\n",
      "    while a < 0.0:\n",
      "        a += pi * 2\n",
      "    return ((a + pi) % (pi * 2)) - pi\n",
      "\n",
      "def calculate_angle(point1, point2):\n",
      "    x1, y1 = point1\n",
      "    x2, y2 = point2\n",
      "    return angle_trunc(atan2((y1-y2),(x1-x2)))\n",
      "\n",
      "def calculate_box_bounds(pt_arr):\n",
      "    x_arr, y_arr = zip(*pt_arr)\n",
      "    min_x = min(x_arr)\n",
      "    max_x = max(x_arr)\n",
      "    min_y = min(y_arr)\n",
      "    max_y = max(y_arr)\n",
      "\n",
      "    return ((min_x,min_y), (min_x, max_y), (max_x, min_y), (max_x, max_y))\n",
      "\n",
      "def box_bounds():\n",
      "    '''box bounds, pre-calculated from training'''\n",
      "    return {\n",
      "        'min_x': 142,\n",
      "        'max_x': 680,\n",
      "        'min_y': 79,\n",
      "        'max_y': 441\n",
      "    }"
     ],
     "language": "python",
     "metadata": {},
     "outputs": [],
     "prompt_number": 47
    },
    {
     "cell_type": "code",
     "collapsed": false,
     "input": [
      "class robot:\n",
      "    def __init__(self, x = 0.0, y = 0.0, heading = 0.0, distance = 1.0):\n",
      "        \"\"\"This function is called when you create a new robot. It sets some of\n",
      "        the attributes of the robot, either to their default values or to the values\n",
      "        specified when it is created.\"\"\"\n",
      "        self.x = x\n",
      "        self.y = y\n",
      "        self.heading = heading\n",
      "        self.distance = distance # only applies to target bot, who always moves at same speed.\n",
      "        self.distance_noise    = 0.0\n",
      "        self.measurement_noise = 0.0\n",
      "\n",
      "\n",
      "    def set_noise(self, new_d_noise, new_m_noise):\n",
      "        \"\"\"This lets us change the noise parameters, which can be very\n",
      "        helpful when using particle filters.\"\"\"\n",
      "        self.distance_noise    = float(new_d_noise)\n",
      "        self.measurement_noise = float(new_m_noise)\n",
      "\n",
      "\n",
      "    def move(self, distance, tolerance = 0.001):\n",
      "        \"\"\"This function turns the robot and then moves it forward.\"\"\"\n",
      "        distance = random.gauss(distance, self.distance_noise)\n",
      "\n",
      "        # truncate to fit physical limitations\n",
      "        distance = max(0.0, distance)\n",
      "\n",
      "        # Naive bounce model based on angle to reflection\n",
      "        bounds = box_bounds()\n",
      "        #Top Edge\n",
      "        if self.x < bounds['min_x']:\n",
      "            self.heading = pi - self.heading\n",
      "        #Right Edge\n",
      "        elif self.y < bounds['min_y']:\n",
      "            self.heading = -1 * self.heading\n",
      "        #Bottom Edge\n",
      "        if self.x > bounds['max_x']:\n",
      "            self.heading = pi - self.heading\n",
      "        #Left Edge\n",
      "        if self.y > bounds['max_y']:\n",
      "            self.heading = -1 * self.heading\n",
      "\n",
      "        # Execute motion\n",
      "        self.heading = angle_trunc(self.heading)\n",
      "        self.x += distance * cos(self.heading)\n",
      "        self.y += distance * sin(self.heading)\n",
      "\n",
      "    def advance(self):\n",
      "        \"\"\"This function is used to advance the bot.\"\"\"\n",
      "        self.move(self.distance)\n",
      "        return self.sense()\n",
      "\n",
      "    def sense(self):\n",
      "        \"\"\"This function represents the robot sensing its location. When\n",
      "        measurements are noisy, this will return a value that is close to,\n",
      "        but not necessarily equal to, the robot's (x, y) position.\"\"\"\n",
      "        return (random.gauss(self.x, self.measurement_noise),\n",
      "                random.gauss(self.y, self.measurement_noise))\n",
      "\n",
      "    def __repr__(self):\n",
      "        \"\"\"This allows us to print a robot's position\"\"\"\n",
      "        return '[%.5f, %.5f]'  % (self.x, self.y)"
     ],
     "language": "python",
     "metadata": {},
     "outputs": [],
     "prompt_number": 48
    },
    {
     "cell_type": "code",
     "collapsed": false,
     "input": [
      "def predict(points, frames_to_predict=60):\n",
      "    points = points_since_last_collision(points)\n",
      "    path = smooth(points)\n",
      "    heading = calculate_angle(points[-1], points[-2])\n",
      "    speed = dist(points[-2], points[-1])\n",
      "    x, y = points[-1]\n",
      "    bot = robot(x, y, heading, speed)\n",
      "    return ([bot.advance() for i in range(frames_to_predict)], path)\n",
      "\n",
      "def smooth(path, a = 0.5, B = 0.5, tolerance = 0.000001):\n",
      "    x = path\n",
      "    y = deepcopy(path)\n",
      "    delta = tolerance\n",
      "    while delta >= tolerance:\n",
      "        delta = 0\n",
      "        for i, point in list(enumerate(y))[1:-1]:\n",
      "            for j, yi in enumerate(point):\n",
      "                yinit = yi\n",
      "                xi = path[i][j]\n",
      "                yi = yi + a * (xi - yi) + B * (y[i+1][j] + y[i-1][j] - 2 * yi)\n",
      "                y[i][j] = yi\n",
      "                delta += abs(yi - yinit)\n",
      "    return y\n",
      "\n",
      "def points_since_last_collision(points):\n",
      "    '''Return the subset of points at the tail of points, up until the final collision'''\n",
      "    return points[-7:]\n",
      "\n",
      "def parse_input_file(filepath):\n",
      "    with open(filepath, 'r') as f:\n",
      "        input_data = json.load(f)\n",
      "        input_data = fill_missing_points(input_data)\n",
      "        input_data = remove_outlier_points(input_data)\n",
      "        input_data = fill_missing_points(input_data)\n",
      "    return input_data\n",
      "\n",
      "def build_property_dict(pts):\n",
      "    property_dict = defaultdict(list)\n",
      "    pts = map(tuple, pts)\n",
      "    prev_pt = pts[0]\n",
      "    for pt in pts:\n",
      "        property_dict[pt].append({\"dist\": dist(prev_pt, pt), \"angle\": calculate_angle(prev_pt, pt)})\n",
      "        prev_pt = pt\n",
      "    return property_dict\n",
      "\n",
      "def output_predictions(predict_arr):\n",
      "    assert len(predict_arr) == 60\n",
      "    with open('prediction.txt', 'w') as f:\n",
      "        for pt in predict_arr:\n",
      "            f.write(\",\".join(map(str, pt))+\"\\n\")\n",
      "\n",
      "def calc_l2_error(prediction, actual):\n",
      "    assert len(prediction) == len(actual)\n",
      "    return round(sqrt(sum([dist(pt_predict,pt_actual)**2 for pt_predict,pt_actual in zip(prediction,actual)])), 2)"
     ],
     "language": "python",
     "metadata": {},
     "outputs": [],
     "prompt_number": 49
    },
    {
     "cell_type": "code",
     "collapsed": false,
     "input": [
      "DEFAULT_TEST_FILE = \"./training_video1-centroid_data\"\n",
      "\n",
      "pt_arr = parse_input_file(DEFAULT_TEST_FILE)\n",
      "prop_dict = build_property_dict(pt_arr)\n",
      "print calculate_box_bounds(pt_arr)\n",
      "output_predictions(pt_arr[-60:])\n",
      "# print pt_arr\n",
      "# print \"Property Dictionary\"\n",
      "# print prop_dict\n",
      "plot(pt_arr, -1000, None)"
     ],
     "language": "python",
     "metadata": {},
     "outputs": [
      {
       "output_type": "stream",
       "stream": "stdout",
       "text": [
        "[ 151.  673.]\n",
        "((142, 79), (142, 425), (680, 79), (680, 425))"
       ]
      },
      {
       "output_type": "stream",
       "stream": "stdout",
       "text": [
        "\n",
        "1000\n"
       ]
      },
      {
       "metadata": {},
       "output_type": "display_data",
       "png": "[encoded data removed]",
       "text": [
        "<matplotlib.figure.Figure at 0x110626ed0>"
       ]
      }
     ],
     "prompt_number": 50
    },
    {
     "cell_type": "code",
     "collapsed": false,
     "input": [
      "# the histogram of the data\n",
      "angles = [item[\"angle\"] for item_list in prop_dict.itervalues() for item in item_list]\n",
      "plt.hist(angles, 50, facecolor='green', alpha=0.75)\n",
      "\n",
      "plt.xlabel('Angle')\n",
      "plt.ylabel('Number')\n",
      "plt.title(r'Histogram of Robots Heading')\n",
      "\n",
      "plt.show()"
     ],
     "language": "python",
     "metadata": {},
     "outputs": [
      {
       "metadata": {},
       "output_type": "display_data",
       "png": "[encoded data removed]",
       "text": [
        "<matplotlib.figure.Figure at 0x110c264d0>"
       ]
      }
     ],
     "prompt_number": 51
    },
    {
     "cell_type": "code",
     "collapsed": false,
     "input": [
      "# the histogram of the data\n",
      "angles = [item[\"angle\"] for item_list in prop_dict.itervalues() for item in item_list]\n",
      "delta_angle = np.diff(angles)\n",
      "plt.hist(delta_angle, 50, facecolor='blue', alpha=0.65)\n",
      "\n",
      "plt.xlabel('Delta Angle')\n",
      "plt.ylabel('Number')\n",
      "plt.title(r'Histogram of Robots Change in Heading')\n",
      "\n",
      "plt.show()"
     ],
     "language": "python",
     "metadata": {},
     "outputs": [
      {
       "metadata": {},
       "output_type": "display_data",
       "png": "[encoded data removed]",
       "text": [
        "<matplotlib.figure.Figure at 0x110fc7690>"
       ]
      }
     ],
     "prompt_number": 52
    },
    {
     "cell_type": "code",
     "collapsed": false,
     "input": [
      "# the histogram of the data\n",
      "distance = [item[\"dist\"] for item_list in prop_dict.itervalues() for item in item_list]\n",
      "plt.hist(distance, 50, facecolor='red', alpha=0.65)\n",
      "print max(distance)\n",
      "\n",
      "plt.xlabel('Dist')\n",
      "plt.ylabel('Number')\n",
      "plt.title(r'Histogram of Robots Distance between pts')\n",
      "\n",
      "plt.show()"
     ],
     "language": "python",
     "metadata": {},
     "outputs": [
      {
       "output_type": "stream",
       "stream": "stdout",
       "text": [
        "30.4034217738\n"
       ]
      },
      {
       "metadata": {},
       "output_type": "display_data",
       "png": "[encoded data removed]",
       "text": [
        "<matplotlib.figure.Figure at 0x110c1c490>"
       ]
      }
     ],
     "prompt_number": 53
    },
    {
     "cell_type": "code",
     "collapsed": false,
     "input": [
      "prev_pt = None\n",
      "for pt in pt_arr:\n",
      "    if not prev_pt:\n",
      "        prev_pt = pt\n",
      "        continue\n",
      "    if (dist(prev_pt, pt)) > 50:\n",
      "        print \"++++++++++++++++++\"\n",
      "        print \"Current\", pt\n",
      "        print \"Prev\", prev_pt\n",
      "        print \"Dist \", dist(prev_pt, pt)\n",
      "    prev_pt = pt"
     ],
     "language": "python",
     "metadata": {},
     "outputs": [],
     "prompt_number": 54
    },
    {
     "cell_type": "code",
     "collapsed": false,
     "input": [
      "max(map(len, prop_dict.values()))"
     ],
     "language": "python",
     "metadata": {},
     "outputs": [
      {
       "metadata": {},
       "output_type": "pyout",
       "prompt_number": 55,
       "text": [
        "30"
       ]
      }
     ],
     "prompt_number": 55
    },
    {
     "cell_type": "code",
     "collapsed": false,
     "input": [
      "sum((map(len, prop_dict.values())))"
     ],
     "language": "python",
     "metadata": {},
     "outputs": [
      {
       "metadata": {},
       "output_type": "pyout",
       "prompt_number": 56,
       "text": [
        "25828"
       ]
      }
     ],
     "prompt_number": 56
    },
    {
     "cell_type": "code",
     "collapsed": false,
     "input": [
      "len(pt_arr)"
     ],
     "language": "python",
     "metadata": {},
     "outputs": [
      {
       "metadata": {},
       "output_type": "pyout",
       "prompt_number": 57,
       "text": [
        "25828"
       ]
      }
     ],
     "prompt_number": 57
    },
    {
     "cell_type": "code",
     "collapsed": false,
     "input": [
      "def calc_l2_error(prediction,actual):\n",
      "    assert len(prediction) == len(actual)\n",
      "    return round(sqrt(sum([dist(pt_predict,pt_actual)**2 for pt_predict,pt_actual in zip(prediction,actual)])), 2)"
     ],
     "language": "python",
     "metadata": {},
     "outputs": [],
     "prompt_number": 58
    },
    {
     "cell_type": "code",
     "collapsed": false,
     "input": [
      "prediction = [[0,0],[10,0],[10,15],[25,25]] \n",
      "actual = [[0,0],[5,5],[10,10],[20,20]]\n",
      "\n",
      "calc_l2_error(prediction, actual)"
     ],
     "language": "python",
     "metadata": {},
     "outputs": [
      {
       "metadata": {},
       "output_type": "pyout",
       "prompt_number": 59,
       "text": [
        "11.18"
       ]
      }
     ],
     "prompt_number": 59
    },
    {
     "cell_type": "code",
     "collapsed": false,
     "input": [
      "FRAMES_TO_PREDICT = 60\n",
      "actual_arr, predictions_arr, preceding_arr, smoothed_arr = [], [], [], []\n",
      "for i in range(5):\n",
      "    cutoff_index = random.randint(2, len(pt_arr) - FRAMES_TO_PREDICT)\n",
      "    preceding = pt_arr[:cutoff_index][-10:]\n",
      "    predictions, smoothed_path = predict(preceding)\n",
      "    actual_arr.append(pt_arr[cutoff_index:cutoff_index+FRAMES_TO_PREDICT])\n",
      "    preceding_arr.append(preceding)\n",
      "    predictions_arr.append(predictions)\n",
      "    smoothed_arr.append(smoothed_path)\n",
      "plot_actual_vs_prediction(actual_arr, predictions_arr, preceding_arr, smoothed_arr, calc_l2_error)"
     ],
     "language": "python",
     "metadata": {},
     "outputs": [
      {
       "ename": "NameError",
       "evalue": "global name 'warnings' is not defined",
       "output_type": "pyerr",
       "traceback": [
        "\u001b[0;31m---------------------------------------------------------------------------\u001b[0m\n\u001b[0;31mNameError\u001b[0m                                 Traceback (most recent call last)",
        "\u001b[0;32m<ipython-input-60-e035d97eece3>\u001b[0m in \u001b[0;36m<module>\u001b[0;34m()\u001b[0m\n\u001b[1;32m      9\u001b[0m     \u001b[0mpredictions_arr\u001b[0m\u001b[0;34m.\u001b[0m\u001b[0mappend\u001b[0m\u001b[0;34m(\u001b[0m\u001b[0mpredictions\u001b[0m\u001b[0;34m)\u001b[0m\u001b[0;34m\u001b[0m\u001b[0m\n\u001b[1;32m     10\u001b[0m     \u001b[0msmoothed_arr\u001b[0m\u001b[0;34m.\u001b[0m\u001b[0mappend\u001b[0m\u001b[0;34m(\u001b[0m\u001b[0msmoothed_path\u001b[0m\u001b[0;34m)\u001b[0m\u001b[0;34m\u001b[0m\u001b[0m\n\u001b[0;32m---> 11\u001b[0;31m \u001b[0mplot_actual_vs_prediction\u001b[0m\u001b[0;34m(\u001b[0m\u001b[0mactual_arr\u001b[0m\u001b[0;34m,\u001b[0m \u001b[0mpredictions_arr\u001b[0m\u001b[0;34m,\u001b[0m \u001b[0mpreceding_arr\u001b[0m\u001b[0;34m,\u001b[0m \u001b[0msmoothed_arr\u001b[0m\u001b[0;34m,\u001b[0m \u001b[0mcalc_l2_error\u001b[0m\u001b[0;34m)\u001b[0m\u001b[0;34m\u001b[0m\u001b[0m\n\u001b[0m",
        "\u001b[0;32m<ipython-input-44-dd402dcac7f7>\u001b[0m in \u001b[0;36mplot_actual_vs_prediction\u001b[0;34m(actual_arr, prediction_arr, orig_preceding_arr, smoothed_preceding_arr, err_fn)\u001b[0m\n\u001b[1;32m     33\u001b[0m             \u001b[0mloc\u001b[0m\u001b[0;34m=\u001b[0m\u001b[0;34m'upper center'\u001b[0m\u001b[0;34m,\u001b[0m \u001b[0mbbox_to_anchor\u001b[0m\u001b[0;34m=\u001b[0m\u001b[0;34m(\u001b[0m\u001b[0;36m0.5\u001b[0m\u001b[0;34m,\u001b[0m \u001b[0;34m-\u001b[0m\u001b[0;36m0.05\u001b[0m\u001b[0;34m)\u001b[0m\u001b[0;34m,\u001b[0m \u001b[0mfancybox\u001b[0m\u001b[0;34m=\u001b[0m\u001b[0mTrue\u001b[0m\u001b[0;34m,\u001b[0m \u001b[0mshadow\u001b[0m\u001b[0;34m=\u001b[0m\u001b[0mTrue\u001b[0m\u001b[0;34m,\u001b[0m \u001b[0mncol\u001b[0m\u001b[0;34m=\u001b[0m\u001b[0;36m3\u001b[0m\u001b[0;34m\u001b[0m\u001b[0m\n\u001b[1;32m     34\u001b[0m         )\n\u001b[0;32m---> 35\u001b[0;31m         \u001b[0mset_layout\u001b[0m\u001b[0;34m(\u001b[0m\u001b[0mplt\u001b[0m\u001b[0;34m)\u001b[0m\u001b[0;34m\u001b[0m\u001b[0m\n\u001b[0m\u001b[1;32m     36\u001b[0m         \u001b[0mplt\u001b[0m\u001b[0;34m.\u001b[0m\u001b[0mdraw\u001b[0m\u001b[0;34m(\u001b[0m\u001b[0;34m)\u001b[0m\u001b[0;34m\u001b[0m\u001b[0m\n\u001b[1;32m     37\u001b[0m \u001b[0;34m\u001b[0m\u001b[0m\n",
        "\u001b[0;32m<ipython-input-44-dd402dcac7f7>\u001b[0m in \u001b[0;36mset_layout\u001b[0;34m(plt)\u001b[0m\n\u001b[1;32m      1\u001b[0m \u001b[0;32mdef\u001b[0m \u001b[0mset_layout\u001b[0m\u001b[0;34m(\u001b[0m\u001b[0mplt\u001b[0m\u001b[0;34m)\u001b[0m\u001b[0;34m:\u001b[0m\u001b[0;34m\u001b[0m\u001b[0m\n\u001b[0;32m----> 2\u001b[0;31m     \u001b[0;32mwith\u001b[0m \u001b[0mwarnings\u001b[0m\u001b[0;34m.\u001b[0m\u001b[0mcatch_warnings\u001b[0m\u001b[0;34m(\u001b[0m\u001b[0;34m)\u001b[0m\u001b[0;34m:\u001b[0m\u001b[0;34m\u001b[0m\u001b[0m\n\u001b[0m\u001b[1;32m      3\u001b[0m         \u001b[0mwarnings\u001b[0m\u001b[0;34m.\u001b[0m\u001b[0msimplefilter\u001b[0m\u001b[0;34m(\u001b[0m\u001b[0;34m'ignore'\u001b[0m\u001b[0;34m)\u001b[0m\u001b[0;34m\u001b[0m\u001b[0m\n\u001b[1;32m      4\u001b[0m         \u001b[0mplt\u001b[0m\u001b[0;34m.\u001b[0m\u001b[0mtight_layout\u001b[0m\u001b[0;34m(\u001b[0m\u001b[0mrect\u001b[0m\u001b[0;34m=\u001b[0m\u001b[0;34m(\u001b[0m\u001b[0;36m0\u001b[0m\u001b[0;34m,\u001b[0m \u001b[0;36m.13\u001b[0m\u001b[0;34m,\u001b[0m \u001b[0;36m1\u001b[0m\u001b[0;34m,\u001b[0m \u001b[0;36m1.02\u001b[0m\u001b[0;34m)\u001b[0m\u001b[0;34m)\u001b[0m\u001b[0;34m\u001b[0m\u001b[0m\n\u001b[1;32m      5\u001b[0m \u001b[0;34m\u001b[0m\u001b[0m\n",
        "\u001b[0;31mNameError\u001b[0m: global name 'warnings' is not defined"
       ]
      },
      {
       "metadata": {},
       "output_type": "display_data",
       "png": "[encoded data removed]",
       "text": [
        "<matplotlib.figure.Figure at 0x1111ae950>"
       ]
      }
     ],
     "prompt_number": 60
    },
    {
     "cell_type": "code",
     "collapsed": false,
     "input": [
      "print len(pt_arr)\n",
      "plot_measurements(pt_arr)"
     ],
     "language": "python",
     "metadata": {},
     "outputs": []
    },
    {
     "cell_type": "code",
     "collapsed": false,
     "input": [
      "l2_err_arr = []\n",
      "cutoff_index = 1440\n",
      "while(cutoff_index < len(pt_arr)-FRAMES_TO_PREDICT):\n",
      "    preceding = pt_arr[:cutoff_index][-10:]\n",
      "    predictions, smoothed_path = predict(preceding)\n",
      "    actual = pt_arr[cutoff_index:cutoff_index+FRAMES_TO_PREDICT]\n",
      "    l2_err_arr.append(calc_l2_error(predictions, actual))\n",
      "    cutoff_index += 1440\n",
      "print \"Over \" + str(len(pt_arr)/1440) + \" iterations, the average L2 error was: \" + str(sum(l2_err_arr)/len(l2_err_arr))"
     ],
     "language": "python",
     "metadata": {},
     "outputs": []
    }
   ],
   "metadata": {}
  }
 ]
}