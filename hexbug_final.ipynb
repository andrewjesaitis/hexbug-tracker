{
 "metadata": {
  "name": "",
  "signature": "sha256:5df8043caa9b14886caf8127606b45ad4455f1e777ef865c0c73a3422d586659"
 },
 "nbformat": 3,
 "nbformat_minor": 0,
 "worksheets": [
  {
   "cells": [
    {
     "cell_type": "code",
     "collapsed": false,
     "input": [
      "import re\n",
      "from math import *\n",
      "\n",
      "def parse_input_file(filepath):\n",
      "    pattern = re.compile(r\"(\\d+)\")\n",
      "    pt_arr = []\n",
      "    with open(filepath, 'r') as f:\n",
      "        for line in f:\n",
      "            x,y = pattern.findall(line)\n",
      "            pt_arr.append((int(x), int(y)))      \n",
      "    return pt_arr\n",
      "    \n",
      "def dist(pt1, pt2):\n",
      "    x1, y1 = pt1\n",
      "    x2, y2 = pt2\n",
      "    return sqrt((x2 - x1) ** 2 + (y2 - y1) ** 2)\n",
      "\n",
      "def angle_trunc(a):\n",
      "    \"\"\"This maps all angles to a domain of [-pi, pi]\"\"\"\n",
      "    while a < 0.0:\n",
      "        a += pi * 2\n",
      "    return ((a + pi) % (pi * 2)) - pi\n",
      "\n",
      "def calculate_angle(point1, point2):\n",
      "    x1, y1 = point1\n",
      "    x2, y2 = point2\n",
      "    return angle_trunc(atan2((y1-y2),(x1-x2)))\n",
      "    \n",
      "def build_property_dict(pts):\n",
      "    property_dict = {}\n",
      "    prev_pt = None\n",
      "    for pt in pts:\n",
      "        if not prev_pt:\n",
      "            prev_pt = pt\n",
      "            continue\n",
      "        property_dict[pt] = {\"dist\": dist(prev_pt, pt), \"angle\": calculate_angle(prev_pt, pt)}\n",
      "    return property_dict"
     ],
     "language": "python",
     "metadata": {},
     "outputs": []
    },
    {
     "cell_type": "code",
     "collapsed": false,
     "input": [
      "DEFAULT_TEST_FILE = \"./training_video1-centroid_data\"\n",
      "\n",
      "pt_arr = parse_input_file(DEFAULT_TEST_FILE)\n",
      "prop_dict = build_property_dict(pt_arr)\n",
      "print pt_arr\n",
      "print \"Property Dictionary\"\n",
      "print prop_dict"
     ],
     "language": "python",
     "metadata": {},
     "outputs": []
    }
   ],
   "metadata": {}
  }
 ]
}