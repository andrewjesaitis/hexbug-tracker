{
 "metadata": {
  "name": "",
  "signature": "sha256:d817a645dbcdbd66b788c9f2ea15e3301c4e3d8a7037a1ebfada8d92f744a1b6"
 },
 "nbformat": 3,
 "nbformat_minor": 0,
 "worksheets": [
  {
   "cells": [
    {
     "cell_type": "code",
     "collapsed": false,
     "input": [
      "import json\n",
      "from math import *\n",
      "from collections import defaultdict\n",
      "\n",
      "def parse_input_file(filepath):\n",
      "    with open(filepath, 'r') as f:\n",
      "        input_data = json.load(f)\n",
      "        input_data = fill_missing_points(input_data)\n",
      "        input_data = map(tuple, input_data)\n",
      "    return input_data\n",
      "\n",
      "def dist(pt1, pt2):\n",
      "    x1, y1 = pt1\n",
      "    x2, y2 = pt2\n",
      "    return sqrt((x2 - x1) ** 2 + (y2 - y1) ** 2)\n",
      "\n",
      "def angle_trunc(a):\n",
      "    \"\"\"This maps all angles to a domain of [-pi, pi]\"\"\"\n",
      "    while a < 0.0:\n",
      "        a += pi * 2\n",
      "    return ((a + pi) % (pi * 2)) - pi\n",
      "\n",
      "def calculate_angle(point1, point2):\n",
      "    x1, y1 = point1\n",
      "    x2, y2 = point2\n",
      "    return angle_trunc(atan2((y1-y2),(x1-x2)))\n",
      "\n",
      "def get_box_bounds(pt_arr):\n",
      "    x_arr, y_arr = zip(*pt_arr)\n",
      "    min_x = min(x_arr)\n",
      "    max_x = max(x_arr)\n",
      "    min_y = min(y_arr)\n",
      "    max_y = max(y_arr)\n",
      "\n",
      "    return ((min_x,min_y), (min_x, max_y), (max_x, min_y), (max_x, max_y))\n",
      "\n",
      "\n",
      "def build_property_dict(pts):\n",
      "    property_dict = defaultdict(list)\n",
      "    prev_pt = None\n",
      "    for pt in pts:\n",
      "        if not prev_pt:\n",
      "            prev_pt = pt\n",
      "            continue\n",
      "        property_dict[pt].append({\"dist\": dist(prev_pt, pt), \"angle\": calculate_angle(prev_pt, pt)})\n",
      "    return property_dict\n",
      "\n",
      "def find_intermediate_points(point1, point2, d):\n",
      "    \"\"\"\n",
      "    computes a point between point1 and point2.\n",
      "    the computed point is a distance, d, away from point1\n",
      "    \"\"\"\n",
      "    x1, y1 = point1\n",
      "    x2, y2 = point2\n",
      "    \n",
      "    deltaX = (x2 - x1)\n",
      "    deltaY = (y2 - y1)\n",
      "    \n",
      "    if (deltaX != 0):\n",
      "        #http://math.stackexchange.com/questions/656500/given-a-point-slope-and-a-distance-along-that-slope-easily-find-a-second-p\n",
      "        m = deltaY / (deltaX * 1.0) # slope\n",
      "        r = sqrt(1 + m**2)\n",
      "        point3 = [ (x1 + d/r) , (y1 + (d * m)/r) ]\n",
      "    else:\n",
      "      # if deltaX = 0 then the line is a vertical line with undefined slope\n",
      "        point3 = [x1, (y1 + d)]\n",
      "    \n",
      "    return point3\n",
      "\n",
      "def fill_missing_points(centroid_coord_list):\n",
      "    centroid_coords_with_estimates_list = list(centroid_coord_list)\n",
      "    \n",
      "    # iterate through centroid_coord_list and find unknown centroids\n",
      "    i = 0\n",
      "    while i < len(centroid_coord_list):\n",
      "        # count is the number of unknown centroids that appear in succession (one after another)\n",
      "        count = 0\n",
      "        if (centroid_coord_list[i] == [-1,-1]):\n",
      "            count += 1\n",
      "            \n",
      "            while(centroid_coord_list[i + count] == [-1,-1]):\n",
      "                count += 1\n",
      "            \n",
      "            first_known_coord = centroid_coord_list[i-1]\n",
      "            second_known_coord = centroid_coord_list[i + count]\n",
      "            \n",
      "            d = dist(first_known_coord, second_known_coord)\n",
      "                    \n",
      "            for c in range(count):\n",
      "                displacement = (d * (c + 1)) / (count + 1)\n",
      "                centroid_coords_with_estimates_list[i + c] = find_intermediate_points(first_known_coord, second_known_coord, displacement)\n",
      "                    \n",
      "        i += (count + 1)\n",
      "\n",
      "    return centroid_coords_with_estimates_list\n",
      "\n",
      "def output_predictions(predict_arr):\n",
      "    assert len(predict_arr) == 60\n",
      "    with open('prediction.txt', 'w') as f:\n",
      "        for pt in predict_arr:\n",
      "            f.write(\",\".join(map(str, pt))+\"\\n\")"
     ],
     "language": "python",
     "metadata": {},
     "outputs": [],
     "prompt_number": 5
    },
    {
     "cell_type": "code",
     "collapsed": false,
     "input": [
      "%matplotlib inline\n",
      "import matplotlib.pyplot as plt\n",
      "import numpy as np\n",
      "\n",
      "class VectorPlot:\n",
      "    \n",
      "    def __init__(self):\n",
      "        self.x_mes = np.array([])\n",
      "        self.y_mes = np.array([])\n",
      "        self.fig = plt.figure()\n",
      "\n",
      "    def make_plot(self):\n",
      "        print len(self.x_mes)\n",
      "        plt.quiver(self.x_mes[:-1], self.y_mes[:-1], self.x_mes[1:]-self.x_mes[:-1], self.y_mes[1:]-self.y_mes[:-1], scale_units='xy', angles='xy', pivot='tail', color='blue', alpha=0.9, scale=1)\n",
      "        plt.show()\n",
      "          \n",
      "    def add(self, pts):\n",
      "        x_values, y_values = zip(*pts)\n",
      "        self.x_mes = np.append(self.x_mes, x_values)\n",
      "        self.y_mes = np.append(self.y_mes, y_values)\n",
      "\n",
      "def plot(pt_arr, begin, end):\n",
      "    vp = VectorPlot()\n",
      "    vp.add(pt_arr[begin:end])\n",
      "    vp.make_plot()"
     ],
     "language": "python",
     "metadata": {},
     "outputs": [],
     "prompt_number": 6
    },
    {
     "cell_type": "code",
     "collapsed": false,
     "input": [
      "DEFAULT_TEST_FILE = \"./training_video1-centroid_data\"\n",
      "\n",
      "pt_arr = parse_input_file(DEFAULT_TEST_FILE)\n",
      "prop_dict = build_property_dict(pt_arr)\n",
      "print get_box_bounds(pt_arr)\n",
      "output_predictions(pt_arr[-60:])\n",
      "# print pt_arr\n",
      "# print \"Property Dictionary\"\n",
      "# print prop_dict\n",
      "plot(pt_arr, -300, None)"
     ],
     "language": "python",
     "metadata": {},
     "outputs": [
      {
       "output_type": "stream",
       "stream": "stdout",
       "text": [
        "((8, 75), (8, 460), (836, 75), (836, 460))\n",
        "300\n"
       ]
      },
      {
       "metadata": {},
       "output_type": "display_data",
       "png": "[encoded data removed]",
       "text": [
        "<matplotlib.figure.Figure at 0x10fd5cfd0>"
       ]
      }
     ],
     "prompt_number": 7
    },
    {
     "cell_type": "code",
     "collapsed": false,
     "input": [
      "# the histogram of the data\n",
      "angles = [item[\"angle\"] for item_list in prop_dict.itervalues() for item in item_list]\n",
      "plt.hist(angles, 50, facecolor='green', alpha=0.75)\n",
      "\n",
      "plt.xlabel('Angle')\n",
      "plt.ylabel('Number')\n",
      "plt.title(r'Histogram of Robots Heading')\n",
      "\n",
      "plt.show()"
     ],
     "language": "python",
     "metadata": {},
     "outputs": [
      {
       "metadata": {},
       "output_type": "display_data",
       "png": "[encoded data removed]",
       "text": [
        "<matplotlib.figure.Figure at 0x1123bd810>"
       ]
      }
     ],
     "prompt_number": 8
    },
    {
     "cell_type": "code",
     "collapsed": false,
     "input": [
      "# the histogram of the data\n",
      "angles = [item[\"angle\"] for item_list in prop_dict.itervalues() for item in item_list]\n",
      "delta_angle = np.diff(angles)\n",
      "plt.hist(delta_angle, 50, facecolor='blue', alpha=0.65)\n",
      "\n",
      "plt.xlabel('Delta Angle')\n",
      "plt.ylabel('Number')\n",
      "plt.title(r'Histogram of Robots Change in Heading')\n",
      "\n",
      "plt.show()"
     ],
     "language": "python",
     "metadata": {},
     "outputs": [
      {
       "metadata": {},
       "output_type": "display_data",
       "png": "[encoded data removed]",
       "text": [
        "<matplotlib.figure.Figure at 0x11269dc50>"
       ]
      }
     ],
     "prompt_number": 10
    },
    {
     "cell_type": "code",
     "collapsed": false,
     "input": [
      "max(map(len, prop_dict.values()))"
     ],
     "language": "python",
     "metadata": {},
     "outputs": [
      {
       "metadata": {},
       "output_type": "pyout",
       "prompt_number": 11,
       "text": [
        "103"
       ]
      }
     ],
     "prompt_number": 11
    },
    {
     "cell_type": "code",
     "collapsed": false,
     "input": [
      "sum((map(len, prop_dict.values())))"
     ],
     "language": "python",
     "metadata": {},
     "outputs": [
      {
       "metadata": {},
       "output_type": "pyout",
       "prompt_number": 13,
       "text": [
        "25827"
       ]
      }
     ],
     "prompt_number": 13
    },
    {
     "cell_type": "code",
     "collapsed": false,
     "input": [
      "len(pt_arr)"
     ],
     "language": "python",
     "metadata": {},
     "outputs": [
      {
       "metadata": {},
       "output_type": "pyout",
       "prompt_number": 14,
       "text": [
        "25828"
       ]
      }
     ],
     "prompt_number": 14
    },
    {
     "cell_type": "code",
     "collapsed": false,
     "input": [],
     "language": "python",
     "metadata": {},
     "outputs": []
    }
   ],
   "metadata": {}
  }
 ]
}